{
  "nbformat": 4,
  "nbformat_minor": 0,
  "metadata": {
    "colab": {
      "provenance": [],
      "authorship_tag": "ABX9TyOS4KyLLeJqHNH8IxGDIsBM",
      "include_colab_link": true
    },
    "kernelspec": {
      "name": "python3",
      "display_name": "Python 3"
    },
    "language_info": {
      "name": "python"
    }
  },
  "cells": [
    {
      "cell_type": "markdown",
      "metadata": {
        "id": "view-in-github",
        "colab_type": "text"
      },
      "source": [
        "<a href=\"https://colab.research.google.com/github/Minahil-official/Quater-2/blob/main/practice_langchain_chatbot.ipynb\" target=\"_parent\"><img src=\"https://colab.research.google.com/assets/colab-badge.svg\" alt=\"Open In Colab\"/></a>"
      ]
    },
    {
      "cell_type": "code",
      "source": [
        "from google.colab import userdata\n",
        "api_key = userdata.get('GOOGLE_API_KEY_3')"
      ],
      "metadata": {
        "id": "4UCTXLMYpZUt"
      },
      "execution_count": null,
      "outputs": []
    },
    {
      "cell_type": "code",
      "source": [
        "!pip install --upgrade --quiet langchain_google_genai"
      ],
      "metadata": {
        "colab": {
          "base_uri": "https://localhost:8080/"
        },
        "id": "ORmiNDs_piK4",
        "outputId": "49a35d5d-7838-4bbb-c902-2d4c820e1f0c"
      },
      "execution_count": null,
      "outputs": [
        {
          "output_type": "stream",
          "name": "stdout",
          "text": [
            "\u001b[?25l   \u001b[90m━━━━━━━━━━━━━━━━━━━━━━━━━━━━━━━━━━━━━━━━\u001b[0m \u001b[32m0.0/41.5 kB\u001b[0m \u001b[31m?\u001b[0m eta \u001b[36m-:--:--\u001b[0m\r\u001b[2K   \u001b[90m━━━━━━━━━━━━━━━━━━━━━━━━━━━━━━━━━━━━━━━━\u001b[0m \u001b[32m41.5/41.5 kB\u001b[0m \u001b[31m2.1 MB/s\u001b[0m eta \u001b[36m0:00:00\u001b[0m\n",
            "\u001b[?25h"
          ]
        }
      ]
    },
    {
      "cell_type": "code",
      "source": [
        "from langchain_google_genai import ChatGoogleGenerativeAI\n",
        "from langchain.prompts import PromptTemplate\n",
        "from IPython.display import Markdown, display"
      ],
      "metadata": {
        "id": "0Eg60Laspnjp"
      },
      "execution_count": null,
      "outputs": []
    },
    {
      "cell_type": "code",
      "source": [
        "prompt = PromptTemplate(\n",
        "    input_variables = [\"question\"],\n",
        "    template=\"\"\"\n",
        "Provide a detailed explanation of the topic: \"{question}\".\n",
        "\n",
        "The explanation should:\n",
        "- Be clear and easy to understand for a general audience.\n",
        "- Include relevant examples or applications, if possible.\n",
        "- Avoid unnecessary jargon while maintaining accuracy\n",
        "    \"\"\"\n",
        ")"
      ],
      "metadata": {
        "id": "TXodFuV-ptbH"
      },
      "execution_count": null,
      "outputs": []
    },
    {
      "cell_type": "code",
      "source": [
        "llm = ChatGoogleGenerativeAI(\n",
        "    api_key=api_key,\n",
        "    temperature=0.4,\n",
        "    model=\"gemini-2.0-flash-exp\",\n",
        ")"
      ],
      "metadata": {
        "id": "gnUznifmpwgZ"
      },
      "execution_count": null,
      "outputs": []
    },
    {
      "cell_type": "code",
      "source": [
        "first_chain = prompt | llm"
      ],
      "metadata": {
        "id": "3N95bFTqp39C"
      },
      "execution_count": null,
      "outputs": []
    },
    {
      "cell_type": "code",
      "source": [
        "text = \"Agentic AI\"\n",
        "first_response = first_chain.invoke({\"question\": text})\n",
        "print(\"\\n\\n\\nFirst chain:\\n\\n\")\n",
        "display(Markdown(first_response.content))"
      ],
      "metadata": {
        "colab": {
          "base_uri": "https://localhost:8080/",
          "height": 1000
        },
        "id": "C8X-kkj8p-zg",
        "outputId": "4d961531-1868-4420-e195-d77fe59af637"
      },
      "execution_count": null,
      "outputs": [
        {
          "output_type": "stream",
          "name": "stdout",
          "text": [
            "\n",
            "\n",
            "\n",
            "First chain:\n",
            "\n",
            "\n"
          ]
        },
        {
          "output_type": "display_data",
          "data": {
            "text/plain": [
              "<IPython.core.display.Markdown object>"
            ],
            "text/markdown": "Okay, let's break down \"Agentic AI\" in a way that's easy to grasp.\n\n**What is Agentic AI?**\n\nImagine a regular computer program. It follows a set of instructions, step-by-step. You tell it exactly what to do, and it does it. Now, imagine a program that can think for itself, set its own goals, and figure out how to achieve them. That's essentially what Agentic AI is about.\n\nInstead of just being a tool that follows your instructions, an Agentic AI is designed to be an **autonomous agent**. Think of it like a digital assistant that doesn't just respond to your commands, but can proactively work towards a goal you set, even if you don't tell it *exactly* how to do it.\n\nHere's a breakdown of the key concepts:\n\n* **Agent:** In this context, an agent is a piece of software that can perceive its environment (through data), make decisions, and take actions.\n* **Autonomous:** This means the agent can operate independently, without constant human intervention. It can set its own goals, plan its actions, and adapt to changing circumstances.\n* **AI (Artificial Intelligence):** This refers to the underlying technology that allows the agent to reason, learn, and make decisions.\n\n**Key Characteristics of Agentic AI:**\n\n* **Goal-Oriented:** Agentic AIs are designed to achieve specific goals, whether they are set by a human or determined by the AI itself.\n* **Planning and Problem-Solving:** They can break down complex goals into smaller, manageable steps and develop plans to achieve them.\n* **Learning and Adaptation:** They can learn from their experiences, adjust their strategies, and improve their performance over time.\n* **Interaction with Environment:** They can perceive their environment through sensors (like data feeds) and take actions that affect that environment.\n* **Reasoning and Decision-Making:** They can use logic and reasoning to make informed decisions.\n\n**How is Agentic AI Different from Regular AI?**\n\nThe key difference lies in the level of autonomy and proactivity.\n\n* **Regular AI (like a chatbot or image recognition tool):** These are reactive. They respond to specific inputs and perform predefined tasks. They don't set their own goals or plan their own actions.\n* **Agentic AI:** These are proactive. They can set goals, plan how to achieve them, and take actions independently. They are not just responding to commands, but actively working towards a desired outcome.\n\n**Examples and Applications of Agentic AI:**\n\nWhile still an emerging field, Agentic AI has the potential to revolutionize many areas. Here are a few examples:\n\n* **Personalized Learning:** Imagine an AI tutor that understands your learning style, identifies your weaknesses, and creates a customized learning plan for you. This tutor wouldn't just answer your questions; it would actively guide you through the learning process, adapting to your progress.\n* **Autonomous Driving:** Self-driving cars are a good example of Agentic AI. They need to perceive their surroundings, make decisions in real-time, and navigate complex traffic situations without constant human input.\n* **Robotics:** Agentic AI can power robots that can perform complex tasks in manufacturing, logistics, or even exploration. These robots would be able to adapt to changing conditions and solve problems on their own.\n* **Scientific Research:** Imagine an AI that can analyze vast amounts of scientific data, formulate hypotheses, and design experiments to test them. This could accelerate the pace of scientific discovery.\n* **Personal Assistants:** Think beyond just setting reminders. An Agentic AI assistant could manage your finances, plan your travel, or even negotiate deals on your behalf, proactively working to optimize your life.\n* **Supply Chain Management:** Agentic AI could optimize logistics, predict demand, and manage inventory, ensuring efficient and cost-effective operations.\n\n**Challenges and Considerations:**\n\nWhile Agentic AI holds immense promise, there are also challenges to consider:\n\n* **Safety and Control:** Ensuring that these autonomous agents act in a safe and ethical manner is crucial. We need to develop ways to control and align their goals with human values.\n* **Complexity:** Designing and building truly autonomous agents is incredibly complex and requires advanced AI techniques.\n* **Bias and Fairness:** We need to be careful to avoid introducing bias into these systems, ensuring they treat everyone fairly.\n* **Job Displacement:** The automation potential of Agentic AI could lead to job displacement in some sectors, requiring careful planning and retraining efforts.\n\n**In Conclusion:**\n\nAgentic AI represents a significant step forward in the field of artificial intelligence. It's about creating systems that are not just tools, but autonomous agents capable of thinking, planning, and acting independently to achieve goals. While still in its early stages, it has the potential to transform many aspects of our lives, and it's an area that will likely see rapid development in the coming years. Understanding its core concepts and implications is crucial for navigating the future of AI."
          },
          "metadata": {}
        }
      ]
    }
  ]
}