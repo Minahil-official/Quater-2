{
  "nbformat": 4,
  "nbformat_minor": 0,
  "metadata": {
    "colab": {
      "provenance": [],
      "authorship_tag": "ABX9TyPo01C6cDj5TRE+AKdrRga3",
      "include_colab_link": true
    },
    "kernelspec": {
      "name": "python3",
      "display_name": "Python 3"
    },
    "language_info": {
      "name": "python"
    }
  },
  "cells": [
    {
      "cell_type": "markdown",
      "metadata": {
        "id": "view-in-github",
        "colab_type": "text"
      },
      "source": [
        "<a href=\"https://colab.research.google.com/github/Minahil-official/Quater-2/blob/main/Project_03_LangChain_Function_Tool_Calling.ipynb\" target=\"_parent\"><img src=\"https://colab.research.google.com/assets/colab-badge.svg\" alt=\"Open In Colab\"/></a>"
      ]
    },
    {
      "cell_type": "code",
      "execution_count": null,
      "metadata": {
        "id": "ZiqqcR698wyy"
      },
      "outputs": [],
      "source": [
        "!pip install langchain google-generativeai langchain_google_genai -q"
      ]
    },
    {
      "cell_type": "code",
      "source": [
        "!pip install python-dotenv -q"
      ],
      "metadata": {
        "id": "DNWMvUFVNJsm"
      },
      "execution_count": null,
      "outputs": []
    },
    {
      "cell_type": "code",
      "source": [
        "from google.colab import userdata\n",
        "GOOGLE_API_KEY= userdata.get('video_process')"
      ],
      "metadata": {
        "id": "VNUttS_M-TQ4"
      },
      "execution_count": null,
      "outputs": []
    },
    {
      "cell_type": "code",
      "source": [
        "from langchain_core.tools import tool\n",
        "@tool\n",
        "def calculator(expression: str) -> str:\n",
        "    \"\"\"\n",
        "    Evaluates a mathematical expression and returns the result.\n",
        "\n",
        "    Parameters:\n",
        "    - expression (str): The mathematical expression to evaluate.\n",
        "\n",
        "    Returns:\n",
        "    - str: The result of the evaluation or an error message.\n",
        "    \"\"\"\n",
        "    import math\n",
        "\n",
        "    # Define a safe dictionary of allowed methods and constants\n",
        "    allowed_names = {name: getattr(math, name) for name in dir(math) if not name.startswith(\"__\")}\n",
        "    allowed_names.update({\"abs\": abs, \"round\": round})\n",
        "\n",
        "    try:\n",
        "        # Use eval with restricted globals for safety\n",
        "        result = eval(expression, {\"__builtins__\": None}, allowed_names)\n",
        "        return f\"Result: {result}\"\n",
        "    except Exception as e:\n",
        "        return f\"Error: Invalid expression. Details: {e}\"\n"
      ],
      "metadata": {
        "id": "2XhRba3V-ZS2"
      },
      "execution_count": null,
      "outputs": []
    },
    {
      "cell_type": "code",
      "source": [
        "\n",
        "import requests\n",
        "news_api_key = \"fce15302b99840cca6de1ce31894f4b1\"\n",
        "@tool\n",
        "def fetch_latest_news(query: str = \"latest\", language: str = \"en\", page_size: int = 5):\n",
        "    \"\"\"\n",
        "    Fetches the latest news articles based on a query.\n",
        "\n",
        "    Parameters:\n",
        "    - query (str): The keyword for the news search (default is 'latest').\n",
        "    - language (str): Language for the news (default is 'en').\n",
        "    - page_size (int): Number of news articles to fetch (default is 5).\n",
        "\n",
        "    Returns:\n",
        "    - list: A list of dictionaries with news headlines, descriptions, and URLs.\n",
        "    \"\"\"\n",
        "    base_url = \"https://newsapi.org/v2/everything\"\n",
        "    params = {\n",
        "        \"q\": query,\n",
        "        \"language\": language,\n",
        "        \"pageSize\": page_size,\n",
        "        \"apiKey\": news_api_key,\n",
        "    }\n",
        "\n",
        "    try:\n",
        "        response = requests.get(base_url, params=params)\n",
        "        response.raise_for_status()  # Raise an error for bad responses (4xx, 5xx)\n",
        "        articles = response.json().get(\"articles\", [])\n",
        "\n",
        "        news = []\n",
        "        for article in articles:\n",
        "            news.append({\n",
        "                \"title\": article[\"title\"],\n",
        "                \"description\": article[\"description\"],\n",
        "                \"url\": article[\"url\"],\n",
        "            })\n",
        "\n",
        "        return news\n",
        "    except Exception as e:\n",
        "        return {\"error\": str(e)}\n"
      ],
      "metadata": {
        "id": "zw9hbMQWA6t3"
      },
      "execution_count": null,
      "outputs": []
    },
    {
      "cell_type": "code",
      "source": [
        "@tool\n",
        "def fetch_weather(city: str) -> str:\n",
        "    \"\"\"\n",
        "    Fetches the current weather for a given city.\n",
        "\n",
        "    Parameters:\n",
        "    - city (str): Name of the city to fetch weather for.\n",
        "\n",
        "    Returns:\n",
        "    - str: Weather details or error message.\n",
        "    \"\"\"\n",
        "    api_key = \"a7c2649f3fbadc686b85f80b09087df0\"  # Replace with your OpenWeatherMap API key\n",
        "    base_url = \"https://api.openweathermap.org/data/2.5/weather\"\n",
        "\n",
        "    params = {\n",
        "        \"q\": city,\n",
        "        \"appid\": api_key,\n",
        "        \"units\": \"metric\"  # Use \"imperial\" for Fahrenheit\n",
        "    }\n",
        "\n",
        "    try:\n",
        "        response = requests.get(base_url, params=params)\n",
        "        response.raise_for_status()  # Raise HTTPError for bad responses\n",
        "        data = response.json()\n",
        "\n",
        "        # Check if the API returned an error\n",
        "        if data.get(\"cod\") != 200:\n",
        "            return f\"Error: {data.get('message', 'Unknown error occurred.')}\"\n",
        "\n",
        "        # Extract weather details\n",
        "        weather = data[\"weather\"][0][\"description\"]\n",
        "        temperature = data[\"main\"][\"temp\"]\n",
        "        humidity = data[\"main\"][\"humidity\"]\n",
        "        city_name = data[\"name\"]\n",
        "\n",
        "        return (\n",
        "            f\"Weather in {city_name}:\\n\"\n",
        "            f\"- Description: {weather}\\n\"\n",
        "            f\"- Temperature: {temperature}°C\\n\"\n",
        "            f\"- Humidity: {humidity}%\"\n",
        "        )\n",
        "    except requests.exceptions.RequestException as e:\n",
        "        return f\"Error: Unable to fetch weather data. Details: {e}\"\n",
        "    except KeyError:\n",
        "        return \"Error: Unable to parse weather data. Please check the city name.\"\n",
        "\n"
      ],
      "metadata": {
        "id": "YvBIifHHFKv1"
      },
      "execution_count": null,
      "outputs": []
    },
    {
      "cell_type": "code",
      "source": [
        "pip install googlesearch-python\n"
      ],
      "metadata": {
        "colab": {
          "base_uri": "https://localhost:8080/"
        },
        "id": "8nBP4lcbmQRw",
        "outputId": "edb2dd21-930b-41ba-832e-49f06144bf5b"
      },
      "execution_count": null,
      "outputs": [
        {
          "output_type": "stream",
          "name": "stdout",
          "text": [
            "Requirement already satisfied: googlesearch-python in /usr/local/lib/python3.10/dist-packages (1.2.5)\n",
            "Requirement already satisfied: beautifulsoup4>=4.9 in /usr/local/lib/python3.10/dist-packages (from googlesearch-python) (4.12.3)\n",
            "Requirement already satisfied: requests>=2.20 in /usr/local/lib/python3.10/dist-packages (from googlesearch-python) (2.32.3)\n",
            "Requirement already satisfied: soupsieve>1.2 in /usr/local/lib/python3.10/dist-packages (from beautifulsoup4>=4.9->googlesearch-python) (2.6)\n",
            "Requirement already satisfied: charset-normalizer<4,>=2 in /usr/local/lib/python3.10/dist-packages (from requests>=2.20->googlesearch-python) (3.4.1)\n",
            "Requirement already satisfied: idna<4,>=2.5 in /usr/local/lib/python3.10/dist-packages (from requests>=2.20->googlesearch-python) (3.10)\n",
            "Requirement already satisfied: urllib3<3,>=1.21.1 in /usr/local/lib/python3.10/dist-packages (from requests>=2.20->googlesearch-python) (2.3.0)\n",
            "Requirement already satisfied: certifi>=2017.4.17 in /usr/local/lib/python3.10/dist-packages (from requests>=2.20->googlesearch-python) (2024.12.14)\n"
          ]
        }
      ]
    },
    {
      "cell_type": "code",
      "source": [
        "from langchain_core.tools import tool\n",
        "from googlesearch import search\n",
        "\n",
        "@tool\n",
        "def google_search(query: str, num_results: int = 5):\n",
        "    \"\"\"\n",
        "    Performs a Google search and returns a list of search results.\n",
        "\n",
        "    Parameters:\n",
        "    - query (str): The search query.\n",
        "    - num_results (int): The number of results to return (default is 5).\n",
        "\n",
        "    Returns:\n",
        "    - list: A list of search result URLs.\n",
        "    \"\"\"\n",
        "    try:\n",
        "        # Perform the search\n",
        "        results = []\n",
        "        for result in search(query, num_results=num_results):\n",
        "            results.append(result)\n",
        "\n",
        "        return results\n",
        "\n",
        "    except Exception as e:\n",
        "        return {\"error\": str(e)}\n"
      ],
      "metadata": {
        "id": "CP9tqUyjn027"
      },
      "execution_count": null,
      "outputs": []
    },
    {
      "source": [
        "tools = [calculator, fetch_latest_news,fetch_weather,google_search] # Remove the extra brackets"
      ],
      "cell_type": "code",
      "metadata": {
        "id": "pIks3ce18h-7"
      },
      "execution_count": null,
      "outputs": []
    },
    {
      "cell_type": "code",
      "source": [
        "from langchain_google_genai import ChatGoogleGenerativeAI\n",
        "\n",
        "llm = ChatGoogleGenerativeAI(model = \"gemini-2.0-flash-exp\" , api_key=GOOGLE_API_KEY)\n",
        "\n",
        "from langchain.agents import initialize_agent, AgentType\n",
        "\n",
        "# Define the tools list using the Tool objects\n",
        "# and the calculator function decorated with @tool\n",
        "tools = [calculator, fetch_latest_news, fetch_weather]\n",
        "\n",
        "agent = initialize_agent(tools, llm , agent=AgentType.STRUCTURED_CHAT_ZERO_SHOT_REACT_DESCRIPTION )\n"
      ],
      "metadata": {
        "id": "GU13PYO69GSV"
      },
      "execution_count": null,
      "outputs": []
    },
    {
      "cell_type": "code",
      "source": [
        "respone =  agent.invoke({\"input\":\"give google search about pakistan\"})\n",
        "respone[\"output\"]"
      ],
      "metadata": {
        "colab": {
          "base_uri": "https://localhost:8080/",
          "height": 96
        },
        "id": "y0nUPQ0S-qnG",
        "outputId": "21e9a092-066c-4e2f-ac58-c993c8740516"
      },
      "execution_count": null,
      "outputs": [
        {
          "output_type": "execute_result",
          "data": {
            "text/plain": [
              "\"I have already performed a news search about Pakistan. Here are some of the latest headlines:\\n\\n*   Rabada sends SA into Test final with thrilling win\\n*   Potts replaces Woakes for final New Zealand Test\\n*   OnlyFans Models Are Using AI Impersonators to Keep Up With Their DMs\\n*   Remembering the 'kind leader' who led India with a steely resolve\\n*   Sara Sharif's killer father 'attacked in prison'\\n\\n\\nPlease note that I am unable to perform a general Google search, but I can fetch news articles or perform other specific tasks.\""
            ],
            "application/vnd.google.colaboratory.intrinsic+json": {
              "type": "string"
            }
          },
          "metadata": {},
          "execution_count": 28
        }
      ]
    }
  ]
}