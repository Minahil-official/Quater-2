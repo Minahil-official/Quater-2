{
  "nbformat": 4,
  "nbformat_minor": 0,
  "metadata": {
    "colab": {
      "provenance": [],
      "authorship_tag": "ABX9TyOgEaPggu6vMcFQ3H1rFAZE",
      "include_colab_link": true
    },
    "kernelspec": {
      "name": "python3",
      "display_name": "Python 3"
    },
    "language_info": {
      "name": "python"
    }
  },
  "cells": [
    {
      "cell_type": "markdown",
      "metadata": {
        "id": "view-in-github",
        "colab_type": "text"
      },
      "source": [
        "<a href=\"https://colab.research.google.com/github/Minahil-official/Quater-2/blob/main/Project_03_LangChain_Function_Tool_Calling.ipynb\" target=\"_parent\"><img src=\"https://colab.research.google.com/assets/colab-badge.svg\" alt=\"Open In Colab\"/></a>"
      ]
    },
    {
      "cell_type": "markdown",
      "source": [
        "# *STREAMLIT APP*  \n",
        "### https://minahil-official-gemini-tool-calling-tool-calling-oiidag.streamlit.app/"
      ],
      "metadata": {
        "id": "4DRbBDpOzIE6"
      }
    },
    {
      "cell_type": "markdown",
      "source": [
        "## **Creating Environment**"
      ],
      "metadata": {
        "id": "k4-wqZzPzriP"
      }
    },
    {
      "cell_type": "code",
      "execution_count": 1,
      "metadata": {
        "id": "ZiqqcR698wyy",
        "colab": {
          "base_uri": "https://localhost:8080/"
        },
        "outputId": "95291e9a-c32b-45c0-bfe1-b817653e1a5b"
      },
      "outputs": [
        {
          "output_type": "stream",
          "name": "stdout",
          "text": [
            "\u001b[2K   \u001b[90m━━━━━━━━━━━━━━━━━━━━━━━━━━━━━━━━━━━━━━━━\u001b[0m \u001b[32m41.5/41.5 kB\u001b[0m \u001b[31m110.7 kB/s\u001b[0m eta \u001b[36m0:00:00\u001b[0m\n",
            "\u001b[?25h"
          ]
        }
      ],
      "source": [
        "!pip install langchain google-generativeai langchain_google_genai -q"
      ]
    },
    {
      "cell_type": "code",
      "source": [
        "!pip install python-dotenv -q"
      ],
      "metadata": {
        "id": "DNWMvUFVNJsm"
      },
      "execution_count": 2,
      "outputs": []
    },
    {
      "cell_type": "code",
      "source": [
        "!pip install googlesearch-python"
      ],
      "metadata": {
        "colab": {
          "base_uri": "https://localhost:8080/"
        },
        "id": "eZ_rikT40QBX",
        "outputId": "13116018-b2d5-4e70-d300-63c5297a9312"
      },
      "execution_count": 3,
      "outputs": [
        {
          "output_type": "stream",
          "name": "stdout",
          "text": [
            "Collecting googlesearch-python\n",
            "  Downloading googlesearch_python-1.2.5-py3-none-any.whl.metadata (2.9 kB)\n",
            "Requirement already satisfied: beautifulsoup4>=4.9 in /usr/local/lib/python3.10/dist-packages (from googlesearch-python) (4.12.3)\n",
            "Requirement already satisfied: requests>=2.20 in /usr/local/lib/python3.10/dist-packages (from googlesearch-python) (2.32.3)\n",
            "Requirement already satisfied: soupsieve>1.2 in /usr/local/lib/python3.10/dist-packages (from beautifulsoup4>=4.9->googlesearch-python) (2.6)\n",
            "Requirement already satisfied: charset-normalizer<4,>=2 in /usr/local/lib/python3.10/dist-packages (from requests>=2.20->googlesearch-python) (3.4.1)\n",
            "Requirement already satisfied: idna<4,>=2.5 in /usr/local/lib/python3.10/dist-packages (from requests>=2.20->googlesearch-python) (3.10)\n",
            "Requirement already satisfied: urllib3<3,>=1.21.1 in /usr/local/lib/python3.10/dist-packages (from requests>=2.20->googlesearch-python) (2.3.0)\n",
            "Requirement already satisfied: certifi>=2017.4.17 in /usr/local/lib/python3.10/dist-packages (from requests>=2.20->googlesearch-python) (2024.12.14)\n",
            "Downloading googlesearch_python-1.2.5-py3-none-any.whl (4.8 kB)\n",
            "Installing collected packages: googlesearch-python\n",
            "Successfully installed googlesearch-python-1.2.5\n"
          ]
        }
      ]
    },
    {
      "cell_type": "markdown",
      "source": [
        "## **Key Cofiguration**"
      ],
      "metadata": {
        "id": "pJZMq5Wiz1wB"
      }
    },
    {
      "cell_type": "code",
      "source": [
        "from google.colab import userdata\n",
        "GOOGLE_API_KEY= userdata.get('video_process')"
      ],
      "metadata": {
        "id": "VNUttS_M-TQ4"
      },
      "execution_count": 4,
      "outputs": []
    },
    {
      "cell_type": "markdown",
      "source": [
        "## **Creating Tools**"
      ],
      "metadata": {
        "id": "CBElVm5Bz8sX"
      }
    },
    {
      "cell_type": "code",
      "source": [
        "from langchain_core.tools import tool\n",
        "@tool\n",
        "def calculator(expression: str) -> str:\n",
        "    \"\"\"\n",
        "    Evaluates a mathematical expression and returns the result.\n",
        "\n",
        "    Parameters:\n",
        "    - expression (str): The mathematical expression to evaluate.\n",
        "\n",
        "    Returns:\n",
        "    - str: The result of the evaluation or an error message.\n",
        "    \"\"\"\n",
        "    import math\n",
        "\n",
        "    # Define a safe dictionary of allowed methods and constants\n",
        "    allowed_names = {name: getattr(math, name) for name in dir(math) if not name.startswith(\"__\")}\n",
        "    allowed_names.update({\"abs\": abs, \"round\": round})\n",
        "\n",
        "    try:\n",
        "        # Use eval with restricted globals for safety\n",
        "        result = eval(expression, {\"__builtins__\": None}, allowed_names)\n",
        "        return f\"Result: {result}\"\n",
        "    except Exception as e:\n",
        "        return f\"Error: Invalid expression. Details: {e}\"\n"
      ],
      "metadata": {
        "id": "2XhRba3V-ZS2"
      },
      "execution_count": 5,
      "outputs": []
    },
    {
      "cell_type": "code",
      "source": [
        "\n",
        "import requests\n",
        "news_api_key = \"fce15302b99840cca6de1ce31894f4b1\"\n",
        "@tool\n",
        "def fetch_latest_news(query: str = \"latest\", language: str = \"en\", page_size: int = 5):\n",
        "    \"\"\"\n",
        "    Fetches the latest news articles based on a query.\n",
        "\n",
        "    Parameters:\n",
        "    - query (str): The keyword for the news search (default is 'latest').\n",
        "    - language (str): Language for the news (default is 'en').\n",
        "    - page_size (int): Number of news articles to fetch (default is 5).\n",
        "\n",
        "    Returns:\n",
        "    - list: A list of dictionaries with news headlines, descriptions, and URLs.\n",
        "    \"\"\"\n",
        "    base_url = \"https://newsapi.org/v2/everything\"\n",
        "    params = {\n",
        "        \"q\": query,\n",
        "        \"language\": language,\n",
        "        \"pageSize\": page_size,\n",
        "        \"apiKey\": news_api_key,\n",
        "    }\n",
        "\n",
        "    try:\n",
        "        response = requests.get(base_url, params=params)\n",
        "        response.raise_for_status()  # Raise an error for bad responses (4xx, 5xx)\n",
        "        articles = response.json().get(\"articles\", [])\n",
        "\n",
        "        news = []\n",
        "        for article in articles:\n",
        "            news.append({\n",
        "                \"title\": article[\"title\"],\n",
        "                \"description\": article[\"description\"],\n",
        "                \"url\": article[\"url\"],\n",
        "            })\n",
        "\n",
        "        return news\n",
        "    except Exception as e:\n",
        "        return {\"error\": str(e)}\n"
      ],
      "metadata": {
        "id": "zw9hbMQWA6t3"
      },
      "execution_count": 6,
      "outputs": []
    },
    {
      "cell_type": "code",
      "source": [
        "@tool\n",
        "def fetch_weather(city: str) -> str:\n",
        "    \"\"\"\n",
        "    Fetches the current weather for a given city.\n",
        "\n",
        "    Parameters:\n",
        "    - city (str): Name of the city to fetch weather for.\n",
        "\n",
        "    Returns:\n",
        "    - str: Weather details or error message.\n",
        "    \"\"\"\n",
        "    api_key = \"a7c2649f3fbadc686b85f80b09087df0\"  # Replace with your OpenWeatherMap API key\n",
        "    base_url = \"https://api.openweathermap.org/data/2.5/weather\"\n",
        "\n",
        "    params = {\n",
        "        \"q\": city,\n",
        "        \"appid\": api_key,\n",
        "        \"units\": \"metric\"  # Use \"imperial\" for Fahrenheit\n",
        "    }\n",
        "\n",
        "    try:\n",
        "        response = requests.get(base_url, params=params)\n",
        "        response.raise_for_status()  # Raise HTTPError for bad responses\n",
        "        data = response.json()\n",
        "\n",
        "        # Check if the API returned an error\n",
        "        if data.get(\"cod\") != 200:\n",
        "            return f\"Error: {data.get('message', 'Unknown error occurred.')}\"\n",
        "\n",
        "        # Extract weather details\n",
        "        weather = data[\"weather\"][0][\"description\"]\n",
        "        temperature = data[\"main\"][\"temp\"]\n",
        "        humidity = data[\"main\"][\"humidity\"]\n",
        "        city_name = data[\"name\"]\n",
        "\n",
        "        return (\n",
        "            f\"Weather in {city_name}:\\n\"\n",
        "            f\"- Description: {weather}\\n\"\n",
        "            f\"- Temperature: {temperature}°C\\n\"\n",
        "            f\"- Humidity: {humidity}%\"\n",
        "        )\n",
        "    except requests.exceptions.RequestException as e:\n",
        "        return f\"Error: Unable to fetch weather data. Details: {e}\"\n",
        "    except KeyError:\n",
        "        return \"Error: Unable to parse weather data. Please check the city name.\"\n",
        "\n"
      ],
      "metadata": {
        "id": "YvBIifHHFKv1"
      },
      "execution_count": 7,
      "outputs": []
    },
    {
      "cell_type": "code",
      "source": [
        "@tool\n",
        "def google_search(query: str, num_results: int = 5):\n",
        "    \"\"\"\n",
        "    Performs a Google search and returns a list of search results.\n",
        "\n",
        "    Parameters:\n",
        "    - query (str): The search query.\n",
        "    - num_results (int): The number of results to return (default is 5).\n",
        "\n",
        "    Returns:\n",
        "    - list: A list of search result URLs.\n",
        "    \"\"\"\n",
        "    try:\n",
        "        # Perform the search\n",
        "        results = []\n",
        "        for result in search(query, num_results=num_results):\n",
        "            results.append(result)\n",
        "\n",
        "        return results\n",
        "\n",
        "    except Exception as e:\n",
        "        return {\"error\": str(e)}\n"
      ],
      "metadata": {
        "id": "CP9tqUyjn027"
      },
      "execution_count": 8,
      "outputs": []
    },
    {
      "cell_type": "markdown",
      "source": [
        "## **Adding Tools**"
      ],
      "metadata": {
        "id": "fTC0tw4n038-"
      }
    },
    {
      "cell_type": "code",
      "source": [
        "from langchain_google_genai import ChatGoogleGenerativeAI\n",
        "\n",
        "llm = ChatGoogleGenerativeAI(model = \"gemini-2.0-flash-exp\" , api_key=GOOGLE_API_KEY)\n",
        "\n",
        "from langchain.agents import initialize_agent, AgentType\n",
        "\n",
        "# Define the tools list using the Tool objects\n",
        "# and the calculator function decorated with @tool\n",
        "tools = [calculator, fetch_latest_news, fetch_weather,google_search]\n",
        "\n",
        "agent = initialize_agent(tools, llm , agent=AgentType.STRUCTURED_CHAT_ZERO_SHOT_REACT_DESCRIPTION )\n"
      ],
      "metadata": {
        "id": "GU13PYO69GSV",
        "colab": {
          "base_uri": "https://localhost:8080/"
        },
        "outputId": "5d502b50-629b-4ebe-d66f-70ebe0033381"
      },
      "execution_count": 9,
      "outputs": [
        {
          "output_type": "stream",
          "name": "stderr",
          "text": [
            "<ipython-input-9-8529c2845c9e>:11: LangChainDeprecationWarning: LangChain agents will continue to be supported, but it is recommended for new use cases to be built with LangGraph. LangGraph offers a more flexible and full-featured framework for building agents, including support for tool-calling, persistence of state, and human-in-the-loop workflows. For details, refer to the `LangGraph documentation <https://langchain-ai.github.io/langgraph/>`_ as well as guides for `Migrating from AgentExecutor <https://python.langchain.com/docs/how_to/migrate_agent/>`_ and LangGraph's `Pre-built ReAct agent <https://langchain-ai.github.io/langgraph/how-tos/create-react-agent/>`_.\n",
            "  agent = initialize_agent(tools, llm , agent=AgentType.STRUCTURED_CHAT_ZERO_SHOT_REACT_DESCRIPTION )\n"
          ]
        }
      ]
    },
    {
      "cell_type": "markdown",
      "source": [
        "## **Getting Response**"
      ],
      "metadata": {
        "id": "YIYk7zwT1Ht9"
      }
    },
    {
      "cell_type": "code",
      "source": [
        "respone =  agent.invoke({\"input\":\"give google search about pakistan\"})\n",
        "respone[\"output\"]"
      ],
      "metadata": {
        "colab": {
          "base_uri": "https://localhost:8080/",
          "height": 96
        },
        "id": "y0nUPQ0S-qnG",
        "outputId": "5d762678-8bce-40c9-e970-53b93ebb0516"
      },
      "execution_count": 10,
      "outputs": [
        {
          "output_type": "execute_result",
          "data": {
            "text/plain": [
              "\"Pakistan is a country in South Asia. It is the fifth-most populous country in the world with a population exceeding 240 million people. It shares borders with Iran, Afghanistan, China, and India. The capital city is Islamabad, and the largest city is Karachi. Pakistan has a rich history and diverse culture. It gained independence in 1947 and is a parliamentary republic. The official languages are Urdu and English. The country's economy is the 25th largest in the world in terms of purchasing power parity.\""
            ],
            "application/vnd.google.colaboratory.intrinsic+json": {
              "type": "string"
            }
          },
          "metadata": {},
          "execution_count": 10
        }
      ]
    }
  ]
}